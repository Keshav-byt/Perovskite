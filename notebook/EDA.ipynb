{
 "cells": [
  {
   "cell_type": "code",
   "execution_count": 3,
   "metadata": {},
   "outputs": [
    {
     "name": "stdout",
     "output_type": "stream",
     "text": [
      "Dataset Info:\n"
     ]
    },
    {
     "ename": "NameError",
     "evalue": "name 'df' is not defined",
     "output_type": "error",
     "traceback": [
      "\u001b[31m---------------------------------------------------------------------------\u001b[39m",
      "\u001b[31mNameError\u001b[39m                                 Traceback (most recent call last)",
      "\u001b[36mCell\u001b[39m\u001b[36m \u001b[39m\u001b[32mIn[3]\u001b[39m\u001b[32m, line 8\u001b[39m\n\u001b[32m      6\u001b[39m \u001b[38;5;66;03m# Display basic info and summary statistics\u001b[39;00m\n\u001b[32m      7\u001b[39m \u001b[38;5;28mprint\u001b[39m(\u001b[33m\"\u001b[39m\u001b[33mDataset Info:\u001b[39m\u001b[33m\"\u001b[39m)\n\u001b[32m----> \u001b[39m\u001b[32m8\u001b[39m \u001b[38;5;28mprint\u001b[39m(\u001b[43mdf\u001b[49m.info())\n\u001b[32m      9\u001b[39m \u001b[38;5;28mprint\u001b[39m(\u001b[33m\"\u001b[39m\u001b[38;5;130;01m\\n\u001b[39;00m\u001b[33mSummary Statistics:\u001b[39m\u001b[33m\"\u001b[39m)\n\u001b[32m     10\u001b[39m \u001b[38;5;28mprint\u001b[39m(df.describe())\n",
      "\u001b[31mNameError\u001b[39m: name 'df' is not defined"
     ]
    }
   ],
   "source": [
    "import pandas as pd\n",
    "import matplotlib.pyplot as plt\n",
    "import seaborn as sns\n",
    "import numpy as np\n",
    "\n",
    "# Display basic info and summary statistics\n",
    "print(\"Dataset Info:\")\n",
    "print(df.info())\n",
    "print(\"\\nSummary Statistics:\")\n",
    "print(df.describe())\n",
    "\n",
    "# Plot histograms for numerical features\n",
    "num_cols = [col for col in df.columns if col != \"PBE band gap\"]\n",
    "plt.figure(figsize=(16, 12))\n",
    "for i, col in enumerate(num_cols, 1):\n",
    "    plt.subplot(4, 4, i)\n",
    "    sns.histplot(df[col], kde=True, bins=30)\n",
    "    plt.title(f\"Histogram of {col}\")\n",
    "plt.tight_layout()\n",
    "plt.show()\n",
    "\n",
    "# Plot boxplots for numerical features to check for outliers\n",
    "plt.figure(figsize=(16, 12))\n",
    "for i, col in enumerate(num_cols, 1):\n",
    "    plt.subplot(4, 4, i)\n",
    "    sns.boxplot(x=df[col])\n",
    "    plt.title(f\"Boxplot of {col}\")\n",
    "plt.tight_layout()\n",
    "plt.show()\n",
    "\n",
    "# Visualize the distribution of the target variable: PBE band gap\n",
    "plt.figure(figsize=(8, 6))\n",
    "sns.histplot(df[\"PBE band gap\"], kde=True, bins=30)\n",
    "plt.title(\"Distribution of PBE Band Gap\")\n",
    "plt.xlabel(\"PBE Band Gap (eV)\")\n",
    "plt.ylabel(\"Frequency\")\n",
    "plt.show()\n",
    "\n",
    "# Create a correlation matrix heatmap for numerical features\n",
    "plt.figure(figsize=(12, 10))\n",
    "correlation_matrix = df.corr()\n",
    "sns.heatmap(correlation_matrix, annot=True, fmt=\".2f\", cmap=\"coolwarm\")\n",
    "plt.title(\"Correlation Matrix\")\n",
    "plt.show()\n",
    "\n",
    "# Scatter plot: Ionization Energy vs. PBE Band Gap (example of pairwise relationship)\n",
    "if \"Ionization Energy (IE)\" in df.columns:\n",
    "    plt.figure(figsize=(8, 6))\n",
    "    sns.scatterplot(x=\"Ionization Energy (IE)\", y=\"PBE band gap\", data=df)\n",
    "    plt.title(\"Ionization Energy vs. PBE Band Gap\")\n",
    "    plt.xlabel(\"Ionization Energy (IE)\")\n",
    "    plt.ylabel(\"PBE Band Gap (eV)\")\n",
    "    plt.show()\n",
    "\n",
    "# Check class distribution for the classification task (insulator vs non-insulator)\n",
    "df['is_insulator'] = (df[\"PBE band gap\"] >= 0.5).astype(int)\n",
    "plt.figure(figsize=(6, 4))\n",
    "sns.countplot(x='is_insulator', data=df)\n",
    "plt.title(\"Class Distribution: Insulator (1) vs Non-Insulator (0)\")\n",
    "plt.xlabel(\"Is Insulator\")\n",
    "plt.ylabel(\"Count\")\n",
    "plt.xticks([0, 1], [\"Non-Insulator (<0.5 eV)\", \"Insulator (>=0.5 eV)\"])\n",
    "plt.show()\n"
   ]
  }
 ],
 "metadata": {
  "kernelspec": {
   "display_name": ".venv",
   "language": "python",
   "name": "python3"
  },
  "language_info": {
   "codemirror_mode": {
    "name": "ipython",
    "version": 3
   },
   "file_extension": ".py",
   "mimetype": "text/x-python",
   "name": "python",
   "nbconvert_exporter": "python",
   "pygments_lexer": "ipython3",
   "version": "3.11.9"
  }
 },
 "nbformat": 4,
 "nbformat_minor": 2
}
